{
 "cells": [
  {
   "cell_type": "code",
   "execution_count": 11,
   "id": "7e9f08f0",
   "metadata": {},
   "outputs": [],
   "source": [
    "from keras.preprocessing.image import ImageDataGenerator\n",
    "from keras.models import Sequential\n",
    "from keras.layers import Dense,Dropout,Flatten\n",
    "from keras.layers import Conv2D,MaxPooling2D\n",
    "import os\n",
    "import matplotlib.pyplot as plt"
   ]
  },
  {
   "cell_type": "code",
   "execution_count": 2,
   "id": "677415c6",
   "metadata": {},
   "outputs": [],
   "source": [
    "train_data_dir='./train/'\n",
    "validation_data_dir='./test/'"
   ]
  },
  {
   "cell_type": "code",
   "execution_count": 3,
   "id": "577cdf1e",
   "metadata": {},
   "outputs": [
    {
     "name": "stdout",
     "output_type": "stream",
     "text": [
      "Found 28709 images belonging to 7 classes.\n",
      "Found 7178 images belonging to 7 classes.\n"
     ]
    }
   ],
   "source": [
    "train_datagen = ImageDataGenerator(\n",
    "    rescale=1./255,\n",
    "    rotation_range=30,\n",
    "    shear_range=0.3,\n",
    "    zoom_range=0.3,\n",
    "    horizontal_flip=True,\n",
    "    fill_mode='nearest'\n",
    ")\n",
    "\n",
    "validation_datagen = ImageDataGenerator(rescale=1./255)\n",
    "\n",
    "train_generator = train_datagen.flow_from_directory(\n",
    "    train_data_dir,\n",
    "    color_mode='grayscale',\n",
    "    target_size=(48, 48),\n",
    "    batch_size=32,\n",
    "    class_mode='categorical',\n",
    "    shuffle=True\n",
    ")\n",
    "\n",
    "validation_generator = validation_datagen.flow_from_directory(\n",
    "    validation_data_dir,\n",
    "    color_mode='grayscale',\n",
    "    target_size=(48, 48),\n",
    "    batch_size=32,\n",
    "    class_mode='categorical',\n",
    "    shuffle=True\n",
    ")"
   ]
  },
  {
   "cell_type": "code",
   "execution_count": 4,
   "id": "315dba30",
   "metadata": {},
   "outputs": [],
   "source": [
    "class_labels=['Angry','Disgust', 'Fear', 'Happy','Neutral','Sad','Surprise']\n",
    "\n",
    "img, label = train_generator.__next__()"
   ]
  },
  {
   "cell_type": "code",
   "execution_count": 5,
   "id": "f6c14e1f",
   "metadata": {},
   "outputs": [
    {
     "name": "stdout",
     "output_type": "stream",
     "text": [
      "Model: \"sequential\"\n",
      "_________________________________________________________________\n",
      " Layer (type)                Output Shape              Param #   \n",
      "=================================================================\n",
      " conv2d (Conv2D)             (None, 46, 46, 32)        320       \n",
      "                                                                 \n",
      " conv2d_1 (Conv2D)           (None, 44, 44, 64)        18496     \n",
      "                                                                 \n",
      " max_pooling2d (MaxPooling2  (None, 22, 22, 64)        0         \n",
      " D)                                                              \n",
      "                                                                 \n",
      " dropout (Dropout)           (None, 22, 22, 64)        0         \n",
      "                                                                 \n",
      " conv2d_2 (Conv2D)           (None, 20, 20, 128)       73856     \n",
      "                                                                 \n",
      " max_pooling2d_1 (MaxPoolin  (None, 10, 10, 128)       0         \n",
      " g2D)                                                            \n",
      "                                                                 \n",
      " dropout_1 (Dropout)         (None, 10, 10, 128)       0         \n",
      "                                                                 \n",
      " conv2d_3 (Conv2D)           (None, 8, 8, 256)         295168    \n",
      "                                                                 \n",
      " max_pooling2d_2 (MaxPoolin  (None, 4, 4, 256)         0         \n",
      " g2D)                                                            \n",
      "                                                                 \n",
      " dropout_2 (Dropout)         (None, 4, 4, 256)         0         \n",
      "                                                                 \n",
      " flatten (Flatten)           (None, 4096)              0         \n",
      "                                                                 \n",
      " dense (Dense)               (None, 512)               2097664   \n",
      "                                                                 \n",
      " dropout_3 (Dropout)         (None, 512)               0         \n",
      "                                                                 \n",
      " dense_1 (Dense)             (None, 7)                 3591      \n",
      "                                                                 \n",
      "=================================================================\n",
      "Total params: 2489095 (9.50 MB)\n",
      "Trainable params: 2489095 (9.50 MB)\n",
      "Non-trainable params: 0 (0.00 Byte)\n",
      "_________________________________________________________________\n",
      "None\n"
     ]
    }
   ],
   "source": [
    "\n",
    "model = Sequential()\n",
    "\n",
    "model.add(Conv2D(32, kernel_size=(3, 3), activation='relu', input_shape=(48,48,1)))\n",
    "\n",
    "model.add(Conv2D(64, kernel_size=(3, 3), activation='relu'))\n",
    "model.add(MaxPooling2D(pool_size=(2, 2)))\n",
    "model.add(Dropout(0.1))\n",
    "\n",
    "model.add(Conv2D(128, kernel_size=(3, 3), activation='relu'))\n",
    "model.add(MaxPooling2D(pool_size=(2, 2)))\n",
    "model.add(Dropout(0.1))\n",
    "\n",
    "model.add(Conv2D(256, kernel_size=(3, 3), activation='relu'))\n",
    "model.add(MaxPooling2D(pool_size=(2, 2)))\n",
    "model.add(Dropout(0.1))\n",
    "\n",
    "model.add(Flatten())\n",
    "model.add(Dense(512, activation='relu'))\n",
    "model.add(Dropout(0.2))\n",
    "\n",
    "model.add(Dense(7, activation='softmax'))\n",
    "\n",
    "model.compile(optimizer = 'adam', loss='categorical_crossentropy', metrics=['accuracy'])\n",
    "print(model.summary())"
   ]
  },
  {
   "cell_type": "code",
   "execution_count": 8,
   "id": "a7f1545e",
   "metadata": {},
   "outputs": [
    {
     "name": "stdout",
     "output_type": "stream",
     "text": [
      "28709\n",
      "7178\n"
     ]
    }
   ],
   "source": [
    "train_path = \"./train/\"\n",
    "test_path = \"./test\"\n",
    "\n",
    "num_train_imgs = 0\n",
    "for root, dirs, files in os.walk(train_path):\n",
    "    num_train_imgs += len(files)\n",
    "    \n",
    "num_test_imgs = 0\n",
    "for root, dirs, files in os.walk(test_path):\n",
    "    num_test_imgs += len(files)\n",
    "\n",
    "print(num_train_imgs)\n",
    "print(num_test_imgs)\n",
    "epochs=30"
   ]
  },
  {
   "cell_type": "code",
   "execution_count": 9,
   "id": "3175e161",
   "metadata": {},
   "outputs": [
    {
     "name": "stdout",
     "output_type": "stream",
     "text": [
      "Epoch 1/30\n",
      "897/897 [==============================] - 185s 206ms/step - loss: 1.2907 - accuracy: 0.5060 - val_loss: 1.1784 - val_accuracy: 0.5466\n",
      "Epoch 2/30\n",
      "897/897 [==============================] - 183s 204ms/step - loss: 1.2683 - accuracy: 0.5149 - val_loss: 1.1558 - val_accuracy: 0.5621\n",
      "Epoch 3/30\n",
      "897/897 [==============================] - 189s 211ms/step - loss: 1.2554 - accuracy: 0.5199 - val_loss: 1.1603 - val_accuracy: 0.5481\n",
      "Epoch 4/30\n",
      "897/897 [==============================] - 207s 231ms/step - loss: 1.2510 - accuracy: 0.5256 - val_loss: 1.1560 - val_accuracy: 0.5571\n",
      "Epoch 5/30\n",
      "897/897 [==============================] - 184s 205ms/step - loss: 1.2377 - accuracy: 0.5281 - val_loss: 1.1159 - val_accuracy: 0.5723\n",
      "Epoch 6/30\n",
      "897/897 [==============================] - 182s 203ms/step - loss: 1.2284 - accuracy: 0.5309 - val_loss: 1.1244 - val_accuracy: 0.5688\n",
      "Epoch 7/30\n",
      "897/897 [==============================] - 226s 252ms/step - loss: 1.2156 - accuracy: 0.5418 - val_loss: 1.1303 - val_accuracy: 0.5696\n",
      "Epoch 8/30\n",
      "897/897 [==============================] - 215s 240ms/step - loss: 1.2072 - accuracy: 0.5395 - val_loss: 1.1068 - val_accuracy: 0.5784\n",
      "Epoch 9/30\n",
      "897/897 [==============================] - 172s 191ms/step - loss: 1.2037 - accuracy: 0.5458 - val_loss: 1.1096 - val_accuracy: 0.5753\n",
      "Epoch 10/30\n",
      "897/897 [==============================] - 2688s 3s/step - loss: 1.1960 - accuracy: 0.5475 - val_loss: 1.1008 - val_accuracy: 0.5783\n",
      "Epoch 11/30\n",
      "897/897 [==============================] - 153s 170ms/step - loss: 1.1899 - accuracy: 0.5487 - val_loss: 1.0984 - val_accuracy: 0.5820\n",
      "Epoch 12/30\n",
      "897/897 [==============================] - 152s 169ms/step - loss: 1.1845 - accuracy: 0.5500 - val_loss: 1.0933 - val_accuracy: 0.5845\n",
      "Epoch 13/30\n",
      "897/897 [==============================] - 165s 184ms/step - loss: 1.1766 - accuracy: 0.5543 - val_loss: 1.0925 - val_accuracy: 0.5857\n",
      "Epoch 14/30\n",
      "897/897 [==============================] - 162s 181ms/step - loss: 1.1726 - accuracy: 0.5585 - val_loss: 1.0985 - val_accuracy: 0.5830\n",
      "Epoch 15/30\n",
      "897/897 [==============================] - 163s 181ms/step - loss: 1.1639 - accuracy: 0.5584 - val_loss: 1.0719 - val_accuracy: 0.5942\n",
      "Epoch 16/30\n",
      "897/897 [==============================] - 163s 182ms/step - loss: 1.1610 - accuracy: 0.5614 - val_loss: 1.0734 - val_accuracy: 0.5873\n",
      "Epoch 17/30\n",
      "897/897 [==============================] - 163s 182ms/step - loss: 1.1608 - accuracy: 0.5615 - val_loss: 1.0789 - val_accuracy: 0.5925\n",
      "Epoch 18/30\n",
      "897/897 [==============================] - 163s 182ms/step - loss: 1.1556 - accuracy: 0.5599 - val_loss: 1.0725 - val_accuracy: 0.5931\n",
      "Epoch 19/30\n",
      "897/897 [==============================] - 164s 183ms/step - loss: 1.1454 - accuracy: 0.5619 - val_loss: 1.0816 - val_accuracy: 0.5872\n",
      "Epoch 20/30\n",
      "897/897 [==============================] - 164s 183ms/step - loss: 1.1463 - accuracy: 0.5633 - val_loss: 1.0715 - val_accuracy: 0.5918\n",
      "Epoch 21/30\n",
      "897/897 [==============================] - 163s 181ms/step - loss: 1.1443 - accuracy: 0.5669 - val_loss: 1.0726 - val_accuracy: 0.5978\n",
      "Epoch 22/30\n",
      "897/897 [==============================] - 164s 183ms/step - loss: 1.1372 - accuracy: 0.5668 - val_loss: 1.0710 - val_accuracy: 0.5884\n",
      "Epoch 23/30\n",
      "897/897 [==============================] - 163s 182ms/step - loss: 1.1387 - accuracy: 0.5677 - val_loss: 1.0655 - val_accuracy: 0.5946\n",
      "Epoch 24/30\n",
      "897/897 [==============================] - 163s 182ms/step - loss: 1.1355 - accuracy: 0.5713 - val_loss: 1.0790 - val_accuracy: 0.5940\n",
      "Epoch 25/30\n",
      "897/897 [==============================] - 163s 181ms/step - loss: 1.1300 - accuracy: 0.5701 - val_loss: 1.0726 - val_accuracy: 0.5975\n",
      "Epoch 26/30\n",
      "897/897 [==============================] - 163s 181ms/step - loss: 1.1331 - accuracy: 0.5715 - val_loss: 1.0765 - val_accuracy: 0.5979\n",
      "Epoch 27/30\n",
      "897/897 [==============================] - 163s 182ms/step - loss: 1.1309 - accuracy: 0.5701 - val_loss: 1.0562 - val_accuracy: 0.5986\n",
      "Epoch 28/30\n",
      "897/897 [==============================] - 163s 182ms/step - loss: 1.1201 - accuracy: 0.5761 - val_loss: 1.0464 - val_accuracy: 0.6034\n",
      "Epoch 29/30\n",
      "897/897 [==============================] - 164s 182ms/step - loss: 1.1233 - accuracy: 0.5734 - val_loss: 1.0638 - val_accuracy: 0.6009\n",
      "Epoch 30/30\n",
      "897/897 [==============================] - 163s 181ms/step - loss: 1.1126 - accuracy: 0.5785 - val_loss: 1.0589 - val_accuracy: 0.6031\n"
     ]
    }
   ],
   "source": [
    "history=model.fit(train_generator,\n",
    "                steps_per_epoch=num_train_imgs//32,\n",
    "                epochs=epochs,\n",
    "                validation_data=validation_generator,\n",
    "                validation_steps=num_test_imgs//32)"
   ]
  },
  {
   "cell_type": "code",
   "execution_count": 12,
   "id": "bab6a7d6",
   "metadata": {},
   "outputs": [
    {
     "data": {
      "image/png": "[encoded data removed]",
      "text/plain": [
       "<Figure size 864x360 with 2 Axes>"
      ]
     },
     "metadata": {
      "needs_background": "light"
     },
     "output_type": "display_data"
    }
   ],
   "source": [
    "# Tracer la courbe d'apprentissage\n",
    "plt.figure(figsize=(12, 5))\n",
    "\n",
    "# Courbe de perte\n",
    "plt.subplot(1, 2, 1)\n",
    "plt.plot(history.history['loss'], label='Train Loss')\n",
    "plt.plot(history.history['val_loss'], label='Validation Loss')\n",
    "plt.xlabel('Épochs')\n",
    "plt.ylabel('Perte')\n",
    "plt.legend()\n",
    "plt.title('Courbe de Perte')\n",
    "\n",
    "# Courbe d'accuracy\n",
    "plt.subplot(1, 2, 2)\n",
    "plt.plot(history.history['accuracy'], label='Train Accuracy')\n",
    "plt.plot(history.history['val_accuracy'], label='Validation Accuracy')\n",
    "plt.xlabel('Épochs')\n",
    "plt.ylabel('Précision')\n",
    "plt.legend()\n",
    "plt.title('Courbe d’Accuracy')\n",
    "\n",
    "plt.show()"
   ]
  },
  {
   "cell_type": "code",
   "execution_count": 13,
   "id": "a95badca",
   "metadata": {},
   "outputs": [],
   "source": [
    "model.save(\"emotion_recognition_model.keras\")"
   ]
  },
  {
   "cell_type": "code",
   "execution_count": null,
   "id": "0a30d85a",
   "metadata": {},
   "outputs": [],
   "source": []
  }
 ],
 "metadata": {
  "kernelspec": {
   "display_name": "Python 3 (ipykernel)",
   "language": "python",
   "name": "python3"
  },
  "language_info": {
   "codemirror_mode": {
    "name": "ipython",
    "version": 3
   },
   "file_extension": ".py",
   "mimetype": "text/x-python",
   "name": "python",
   "nbconvert_exporter": "python",
   "pygments_lexer": "ipython3",
   "version": "3.8.8"
  }
 },
 "nbformat": 4,
 "nbformat_minor": 5
}
